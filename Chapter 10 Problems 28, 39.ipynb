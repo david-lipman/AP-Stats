{
 "cells": [
  {
   "cell_type": "code",
   "execution_count": 2,
   "metadata": {
    "collapsed": true
   },
   "outputs": [],
   "source": [
    "import random"
   ]
  },
  {
   "cell_type": "markdown",
   "metadata": {},
   "source": [
    "** Problem 28 **\n",
    "\n",
    "* Component: Blood Type - We will model this using random digits from 0-99. Let 0-43 = type O blood and 44-99 = other blood types.\n",
    "* Trial: Continue generating random numbers until we have examined three potential donors with type O blood.\n",
    "* Response: Number of potential donors we have examined until we reach three units of type O blood.\n",
    "* Statistic: Average"
   ]
  },
  {
   "cell_type": "code",
   "execution_count": 3,
   "metadata": {
    "collapsed": false
   },
   "outputs": [
    {
     "name": "stdout",
     "output_type": "stream",
     "text": [
      "According to the simulation, the average number of people we might have to examine before getting three units of type O blood is about 6.7824\n"
     ]
    }
   ],
   "source": [
    "num_trials = 10000\n",
    "total_people = 0 \n",
    "\n",
    "for x in range(num_trials):\n",
    "    \n",
    "    type_O = 0\n",
    "    num_people = 0 #response\n",
    "    \n",
    "    while (type_O < 3): #trials\n",
    "        \n",
    "        blood_type = random.randint(0,99) #generating component\n",
    "        \n",
    "        if (blood_type < 44):\n",
    "            type_O += 1\n",
    "            \n",
    "        num_people += 1\n",
    "        \n",
    "    total_people += num_people #summing up total responses (number of people until we reach three units)\n",
    "    \n",
    "average = (total_people/num_trials) #statistic\n",
    "\n",
    "print(\"According to the simulation, the average number of people we might have to examine before getting three units of type O blood is about \" + str(average))"
   ]
  },
  {
   "cell_type": "markdown",
   "metadata": {},
   "source": [
    "** Problem 39 **\n",
    "\n",
    "* Component: The gender of the salesperson chosen for a promotion. We will model this using random digits between 0-22, decreasing the second digit by one after each trial. Let 0-12 = women, decreasing the second digit after a woman is chosen.\n",
    "* Trial: Generate random numbers between 0 and the size of the pool three times, decreasing the pool size each time someone is chosen.\n",
    "* Response: Whether or not three women were chosen.\n",
    "* Statistic: Proportion"
   ]
  },
  {
   "cell_type": "code",
   "execution_count": 4,
   "metadata": {
    "collapsed": false
   },
   "outputs": [
    {
     "name": "stdout",
     "output_type": "stream",
     "text": [
      "According to the simulation, three women might be randomly selected about 7.951% of the time.\n"
     ]
    }
   ],
   "source": [
    "num_trials = 100000\n",
    "all_women = 0\n",
    "\n",
    "for x in range(num_trials):\n",
    "    \n",
    "    women = 0   #response\n",
    "    women_pool = 10 #variables to keep track of total pool of people remaining\n",
    "    men_pool = 12\n",
    "    \n",
    "    for y in range(3): #trials\n",
    "        \n",
    "        salesperson = random.randint(0, men_pool+women_pool-1) #generating component\n",
    "        \n",
    "        if (salesperson < women_pool):\n",
    "            women += 1\n",
    "            women_pool = women_pool - 1 #decrease pool of women if woman is selected\n",
    "\n",
    "        else:\n",
    "            men_pool = men_pool - 1 #decrease pool of men if man is selected\n",
    "\n",
    "            \n",
    "    if (women == 3):\n",
    "        all_women += 1 #increasing total number of responses we get if all women are selected\n",
    "    \n",
    "statistic = (all_women/num_trials)*100 #statistic\n",
    "print(\"According to the simulation, three women might be randomly selected about \" + str(statistic) + \"% of the time.\")"
   ]
  },
  {
   "cell_type": "code",
   "execution_count": null,
   "metadata": {
    "collapsed": true
   },
   "outputs": [],
   "source": []
  }
 ],
 "metadata": {
  "kernelspec": {
   "display_name": "Python 3",
   "language": "python",
   "name": "python3"
  },
  "language_info": {
   "codemirror_mode": {
    "name": "ipython",
    "version": 3
   },
   "file_extension": ".py",
   "mimetype": "text/x-python",
   "name": "python",
   "nbconvert_exporter": "python",
   "pygments_lexer": "ipython3",
   "version": "3.5.3"
  }
 },
 "nbformat": 4,
 "nbformat_minor": 0
}
